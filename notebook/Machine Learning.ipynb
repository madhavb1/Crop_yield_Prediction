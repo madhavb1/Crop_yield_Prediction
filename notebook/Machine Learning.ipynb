{
  "cells": [
    {
      "cell_type": "code",
      "execution_count": 1,
      "id": "7c7f68d0-931c-4a55-be3e-eff67adb3b2c",
      "metadata": {
        "id": "7c7f68d0-931c-4a55-be3e-eff67adb3b2c"
      },
      "outputs": [],
      "source": [
        "import pandas as pd\n",
        "import numpy as np\n",
        "import seaborn as sns\n",
        "import matplotlib.pyplot as plt\n",
        "from sklearn.preprocessing import LabelEncoder, StandardScaler\n",
        "from sklearn.ensemble import RandomForestClassifier, RandomForestRegressor\n",
        "from xgboost import XGBClassifier, XGBRegressor\n",
        "from sklearn.model_selection import train_test_split\n",
        "from sklearn.metrics import classification_report, mean_squared_error, r2_score,accuracy_score, precision_score, recall_score, f1_score\n",
        "from sklearn.ensemble import HistGradientBoostingRegressor\n",
        "import random\n",
        "import re"
      ]
    },
    {
      "cell_type": "code",
      "execution_count": 2,
      "id": "fd726621-29d8-4402-ae24-eafb238bb570",
      "metadata": {
        "id": "fd726621-29d8-4402-ae24-eafb238bb570"
      },
      "outputs": [],
      "source": [
        "import warnings\n",
        "warnings.filterwarnings('ignore')"
      ]
    },
    {
      "cell_type": "code",
      "execution_count": 3,
      "id": "216ddbd1",
      "metadata": {},
      "outputs": [],
      "source": [
        "merged_df = pd.read_csv(r\"E:\\Crop_yield_Prediction\\notebook\\merged_data.csv\", low_memory=False)"
      ]
    },
    {
      "cell_type": "code",
      "execution_count": 4,
      "id": "ad097c88-c480-45af-95b0-53ab48ed1198",
      "metadata": {
        "colab": {
          "base_uri": "https://localhost:8080/",
          "height": 377
        },
        "id": "ad097c88-c480-45af-95b0-53ab48ed1198",
        "outputId": "a93540c6-0aac-48c5-cc20-972b46bb7eac"
      },
      "outputs": [
        {
          "data": {
            "text/html": [
              "<div>\n",
              "<style scoped>\n",
              "    .dataframe tbody tr th:only-of-type {\n",
              "        vertical-align: middle;\n",
              "    }\n",
              "\n",
              "    .dataframe tbody tr th {\n",
              "        vertical-align: top;\n",
              "    }\n",
              "\n",
              "    .dataframe thead th {\n",
              "        text-align: right;\n",
              "    }\n",
              "</style>\n",
              "<table border=\"1\" class=\"dataframe\">\n",
              "  <thead>\n",
              "    <tr style=\"text-align: right;\">\n",
              "      <th></th>\n",
              "      <th>Year</th>\n",
              "      <th>Period</th>\n",
              "      <th>Geo Level</th>\n",
              "      <th>State</th>\n",
              "      <th>Commodity</th>\n",
              "      <th>CONDITION</th>\n",
              "      <th>PROGRESS</th>\n",
              "      <th>PRICE RECEIVED</th>\n",
              "      <th>STOCKS</th>\n",
              "      <th>SALES</th>\n",
              "      <th>...</th>\n",
              "      <th>clay_per</th>\n",
              "      <th>ph</th>\n",
              "      <th>Cation Exchange Capacity</th>\n",
              "      <th>Organic Matter</th>\n",
              "      <th>Available Water Capacity</th>\n",
              "      <th>ksat</th>\n",
              "      <th>slope</th>\n",
              "      <th>elev</th>\n",
              "      <th>Soil_Texture</th>\n",
              "      <th>Soil_Fertility</th>\n",
              "    </tr>\n",
              "  </thead>\n",
              "  <tbody>\n",
              "    <tr>\n",
              "      <th>0</th>\n",
              "      <td>2001</td>\n",
              "      <td>April</td>\n",
              "      <td>STATE</td>\n",
              "      <td>Alabama</td>\n",
              "      <td>COTTON</td>\n",
              "      <td>15.032714</td>\n",
              "      <td>0.000000</td>\n",
              "      <td>93.690957</td>\n",
              "      <td>6.807783e+07</td>\n",
              "      <td>26.143550</td>\n",
              "      <td>...</td>\n",
              "      <td>20.140194</td>\n",
              "      <td>7.147610</td>\n",
              "      <td>2.695492</td>\n",
              "      <td>0.814305</td>\n",
              "      <td>0.132903</td>\n",
              "      <td>2.535661</td>\n",
              "      <td>8.725610</td>\n",
              "      <td>880.484698</td>\n",
              "      <td>Loamy</td>\n",
              "      <td>Moderate Fertility</td>\n",
              "    </tr>\n",
              "    <tr>\n",
              "      <th>1</th>\n",
              "      <td>2001</td>\n",
              "      <td>April</td>\n",
              "      <td>STATE</td>\n",
              "      <td>Alabama</td>\n",
              "      <td>SORGHUM</td>\n",
              "      <td>9.049112</td>\n",
              "      <td>77.173252</td>\n",
              "      <td>80.989201</td>\n",
              "      <td>5.455668e+07</td>\n",
              "      <td>15.649264</td>\n",
              "      <td>...</td>\n",
              "      <td>20.140194</td>\n",
              "      <td>7.147610</td>\n",
              "      <td>2.695492</td>\n",
              "      <td>0.814305</td>\n",
              "      <td>0.132903</td>\n",
              "      <td>2.535661</td>\n",
              "      <td>8.725610</td>\n",
              "      <td>880.484698</td>\n",
              "      <td>Loamy</td>\n",
              "      <td>Moderate Fertility</td>\n",
              "    </tr>\n",
              "    <tr>\n",
              "      <th>2</th>\n",
              "      <td>2001</td>\n",
              "      <td>April</td>\n",
              "      <td>STATE</td>\n",
              "      <td>Alabama</td>\n",
              "      <td>SOYBEANS</td>\n",
              "      <td>11.218004</td>\n",
              "      <td>49.266514</td>\n",
              "      <td>193.929250</td>\n",
              "      <td>2.403578e+07</td>\n",
              "      <td>15.827956</td>\n",
              "      <td>...</td>\n",
              "      <td>20.140194</td>\n",
              "      <td>7.147610</td>\n",
              "      <td>2.695492</td>\n",
              "      <td>0.814305</td>\n",
              "      <td>0.132903</td>\n",
              "      <td>2.535661</td>\n",
              "      <td>8.725610</td>\n",
              "      <td>880.484698</td>\n",
              "      <td>Loamy</td>\n",
              "      <td>Moderate Fertility</td>\n",
              "    </tr>\n",
              "    <tr>\n",
              "      <th>3</th>\n",
              "      <td>2001</td>\n",
              "      <td>April</td>\n",
              "      <td>STATE</td>\n",
              "      <td>Alaska</td>\n",
              "      <td>HAY</td>\n",
              "      <td>8.421371</td>\n",
              "      <td>87.856842</td>\n",
              "      <td>107.126311</td>\n",
              "      <td>0.000000e+00</td>\n",
              "      <td>15.025129</td>\n",
              "      <td>...</td>\n",
              "      <td>20.013527</td>\n",
              "      <td>6.912078</td>\n",
              "      <td>2.887574</td>\n",
              "      <td>0.815230</td>\n",
              "      <td>0.145949</td>\n",
              "      <td>2.330711</td>\n",
              "      <td>3.668050</td>\n",
              "      <td>741.577193</td>\n",
              "      <td>Loamy</td>\n",
              "      <td>Moderate Fertility</td>\n",
              "    </tr>\n",
              "    <tr>\n",
              "      <th>4</th>\n",
              "      <td>2001</td>\n",
              "      <td>April</td>\n",
              "      <td>STATE</td>\n",
              "      <td>Arizona</td>\n",
              "      <td>COTTON</td>\n",
              "      <td>15.451718</td>\n",
              "      <td>16.000000</td>\n",
              "      <td>95.319574</td>\n",
              "      <td>7.351657e+07</td>\n",
              "      <td>19.517770</td>\n",
              "      <td>...</td>\n",
              "      <td>21.969892</td>\n",
              "      <td>7.046161</td>\n",
              "      <td>2.793551</td>\n",
              "      <td>0.940471</td>\n",
              "      <td>0.136564</td>\n",
              "      <td>2.527351</td>\n",
              "      <td>8.288559</td>\n",
              "      <td>842.652739</td>\n",
              "      <td>Loamy</td>\n",
              "      <td>Moderate Fertility</td>\n",
              "    </tr>\n",
              "  </tbody>\n",
              "</table>\n",
              "<p>5 rows × 24 columns</p>\n",
              "</div>"
            ],
            "text/plain": [
              "   Year Period Geo Level    State Commodity  CONDITION   PROGRESS  \\\n",
              "0  2001  April     STATE  Alabama    COTTON  15.032714   0.000000   \n",
              "1  2001  April     STATE  Alabama   SORGHUM   9.049112  77.173252   \n",
              "2  2001  April     STATE  Alabama  SOYBEANS  11.218004  49.266514   \n",
              "3  2001  April     STATE   Alaska       HAY   8.421371  87.856842   \n",
              "4  2001  April     STATE  Arizona    COTTON  15.451718  16.000000   \n",
              "\n",
              "   PRICE RECEIVED        STOCKS      SALES  ...   clay_per        ph  \\\n",
              "0       93.690957  6.807783e+07  26.143550  ...  20.140194  7.147610   \n",
              "1       80.989201  5.455668e+07  15.649264  ...  20.140194  7.147610   \n",
              "2      193.929250  2.403578e+07  15.827956  ...  20.140194  7.147610   \n",
              "3      107.126311  0.000000e+00  15.025129  ...  20.013527  6.912078   \n",
              "4       95.319574  7.351657e+07  19.517770  ...  21.969892  7.046161   \n",
              "\n",
              "   Cation Exchange Capacity  Organic Matter  Available Water Capacity  \\\n",
              "0                  2.695492        0.814305                  0.132903   \n",
              "1                  2.695492        0.814305                  0.132903   \n",
              "2                  2.695492        0.814305                  0.132903   \n",
              "3                  2.887574        0.815230                  0.145949   \n",
              "4                  2.793551        0.940471                  0.136564   \n",
              "\n",
              "       ksat     slope        elev  Soil_Texture      Soil_Fertility  \n",
              "0  2.535661  8.725610  880.484698         Loamy  Moderate Fertility  \n",
              "1  2.535661  8.725610  880.484698         Loamy  Moderate Fertility  \n",
              "2  2.535661  8.725610  880.484698         Loamy  Moderate Fertility  \n",
              "3  2.330711  3.668050  741.577193         Loamy  Moderate Fertility  \n",
              "4  2.527351  8.288559  842.652739         Loamy  Moderate Fertility  \n",
              "\n",
              "[5 rows x 24 columns]"
            ]
          },
          "execution_count": 4,
          "metadata": {},
          "output_type": "execute_result"
        }
      ],
      "source": [
        "merged_df.head()"
      ]
    },
    {
      "cell_type": "markdown",
      "id": "GuNhOTVQ_gEC",
      "metadata": {
        "id": "GuNhOTVQ_gEC"
      },
      "source": [
        "**Result**"
      ]
    },
    {
      "cell_type": "markdown",
      "id": "eP2lGu92SWkT",
      "metadata": {
        "id": "eP2lGu92SWkT"
      },
      "source": [
        "**Yield Prediction → Crop Recommendation (Regression + Optimization)**"
      ]
    },
    {
      "cell_type": "code",
      "execution_count": 5,
      "id": "MgOzsFC_OaJ-",
      "metadata": {
        "id": "MgOzsFC_OaJ-"
      },
      "outputs": [],
      "source": [
        "X = merged_df.drop(columns=['YIELD'])     # Features\n",
        "y = merged_df['YIELD']                    # Target (yield value)"
      ]
    },
    {
      "cell_type": "code",
      "execution_count": 6,
      "id": "Zni5QWaQOaMO",
      "metadata": {
        "id": "Zni5QWaQOaMO"
      },
      "outputs": [],
      "source": [
        "# Create Column Transformer with 3 types of transformers\n",
        "num_features = X.select_dtypes(exclude=\"object\").columns\n",
        "cat_features = X.select_dtypes(include=\"object\").columns\n",
        "\n",
        "from sklearn.preprocessing import OneHotEncoder, StandardScaler\n",
        "from sklearn.compose import ColumnTransformer\n",
        "\n",
        "numeric_transformer = StandardScaler()\n",
        "oh_transformer = OneHotEncoder()\n",
        "\n",
        "preprocessor = ColumnTransformer(\n",
        "    [\n",
        "        (\"OneHotEncoder\", oh_transformer, cat_features),\n",
        "         (\"StandardScaler\", numeric_transformer, num_features),\n",
        "    ]\n",
        ")"
      ]
    },
    {
      "cell_type": "code",
      "execution_count": 7,
      "id": "TGAm-wZTOaO7",
      "metadata": {
        "id": "TGAm-wZTOaO7"
      },
      "outputs": [],
      "source": [
        "X = preprocessor.fit_transform(X)"
      ]
    },
    {
      "cell_type": "code",
      "execution_count": 8,
      "id": "8cJL1KV5OaRd",
      "metadata": {
        "colab": {
          "base_uri": "https://localhost:8080/"
        },
        "id": "8cJL1KV5OaRd",
        "outputId": "43f7d5d9-a590-401d-fede-68ea8c1adc5a"
      },
      "outputs": [
        {
          "data": {
            "text/plain": [
              "((68440, 117), (17111, 117))"
            ]
          },
          "execution_count": 8,
          "metadata": {},
          "output_type": "execute_result"
        }
      ],
      "source": [
        "# separate dataset into train and test\n",
        "from sklearn.model_selection import train_test_split\n",
        "X_train, X_test, y_train, y_test = train_test_split(X,y,test_size=0.2,random_state=42)\n",
        "X_train.shape, X_test.shape"
      ]
    },
    {
      "cell_type": "markdown",
      "id": "xuAWPIGopzPo",
      "metadata": {
        "id": "xuAWPIGopzPo"
      },
      "source": [
        "**Create an Evaluate Function to give all metrics after model Training**"
      ]
    },
    {
      "cell_type": "code",
      "execution_count": 9,
      "id": "ikUEcOliqhzM",
      "metadata": {
        "id": "ikUEcOliqhzM"
      },
      "outputs": [],
      "source": [
        "# Modelling\n",
        "from sklearn.metrics import mean_squared_error, r2_score\n",
        "from sklearn.neighbors import KNeighborsRegressor\n",
        "from sklearn.tree import DecisionTreeRegressor\n",
        "from sklearn.ensemble import RandomForestRegressor,AdaBoostRegressor\n",
        "from sklearn.svm import SVR\n",
        "from sklearn.linear_model import LinearRegression, Ridge,Lasso\n",
        "from sklearn.metrics import r2_score, mean_absolute_error, mean_squared_error\n",
        "from sklearn.model_selection import RandomizedSearchCV\n",
        "# from catboost import CatBoostRegressor\n",
        "from xgboost import XGBRegressor\n",
        "import warnings"
      ]
    },
    {
      "cell_type": "code",
      "execution_count": 10,
      "id": "eKtpS2Z2OaUq",
      "metadata": {
        "id": "eKtpS2Z2OaUq"
      },
      "outputs": [],
      "source": [
        "def evaluate_model(true, predicted):\n",
        "    mae = mean_absolute_error(true, predicted)\n",
        "    mse = mean_squared_error(true, predicted)\n",
        "    rmse = np.sqrt(mean_squared_error(true, predicted))\n",
        "    r2_square = r2_score(true, predicted)\n",
        "    return mae, rmse, r2_square"
      ]
    },
    {
      "cell_type": "code",
      "execution_count": 11,
      "id": "3ppTUYkiOaYT",
      "metadata": {
        "colab": {
          "base_uri": "https://localhost:8080/"
        },
        "id": "3ppTUYkiOaYT",
        "outputId": "c72e9338-a18d-49f7-b29a-c910cdb3730c"
      },
      "outputs": [
        {
          "name": "stdout",
          "output_type": "stream",
          "text": [
            "Linear Regression\n",
            "Model performance for Training set\n",
            "- Root Mean Squared Error: 618.0974\n",
            "- Mean Absolute Error: 317.0231\n",
            "- R2 Score: 0.5454\n",
            "----------------------------------\n",
            "Model performance for Test set\n",
            "- Root Mean Squared Error: 619.9866\n",
            "- Mean Absolute Error: 317.5852\n",
            "- R2 Score: 0.5530\n",
            "===================================\n",
            "\n",
            "\n",
            "Random Forest Regressor\n",
            "Model performance for Training set\n",
            "- Root Mean Squared Error: 79.3140\n",
            "- Mean Absolute Error: 17.5216\n",
            "- R2 Score: 0.9925\n",
            "----------------------------------\n",
            "Model performance for Test set\n",
            "- Root Mean Squared Error: 209.7284\n",
            "- Mean Absolute Error: 46.7721\n",
            "- R2 Score: 0.9489\n",
            "===================================\n",
            "\n",
            "\n",
            "XGBRegressor\n",
            "Model performance for Training set\n",
            "- Root Mean Squared Error: 110.3472\n",
            "- Mean Absolute Error: 42.6850\n",
            "- R2 Score: 0.9855\n",
            "----------------------------------\n",
            "Model performance for Test set\n",
            "- Root Mean Squared Error: 209.2665\n",
            "- Mean Absolute Error: 60.3272\n",
            "- R2 Score: 0.9491\n",
            "===================================\n",
            "\n",
            "\n"
          ]
        }
      ],
      "source": [
        "models = {\n",
        "    \"Linear Regression\": LinearRegression(),\n",
        "    \"Random Forest Regressor\": RandomForestRegressor(),\n",
        "    \"XGBRegressor\": XGBRegressor(),\n",
        "}\n",
        "model_list = []\n",
        "r2_list =[]\n",
        "\n",
        "for i in range(len(list(models))):\n",
        "    model = list(models.values())[i]\n",
        "    model.fit(X_train, y_train) # Train model\n",
        "\n",
        "    # Make predictions\n",
        "    y_train_pred = model.predict(X_train)\n",
        "    y_test_pred = model.predict(X_test)\n",
        "\n",
        "    # Evaluate Train and Test dataset\n",
        "    model_train_mae , model_train_rmse, model_train_r2 = evaluate_model(y_train, y_train_pred)\n",
        "\n",
        "    model_test_mae , model_test_rmse, model_test_r2 = evaluate_model(y_test, y_test_pred)\n",
        "\n",
        "\n",
        "    print(list(models.keys())[i])\n",
        "    model_list.append(list(models.keys())[i])\n",
        "\n",
        "    print('Model performance for Training set')\n",
        "    print(\"- Root Mean Squared Error: {:.4f}\".format(model_train_rmse))\n",
        "    print(\"- Mean Absolute Error: {:.4f}\".format(model_train_mae))\n",
        "    print(\"- R2 Score: {:.4f}\".format(model_train_r2))\n",
        "\n",
        "    print('----------------------------------')\n",
        "\n",
        "    print('Model performance for Test set')\n",
        "    print(\"- Root Mean Squared Error: {:.4f}\".format(model_test_rmse))\n",
        "    print(\"- Mean Absolute Error: {:.4f}\".format(model_test_mae))\n",
        "    print(\"- R2 Score: {:.4f}\".format(model_test_r2))\n",
        "    r2_list.append(model_test_r2)\n",
        "\n",
        "    print('='*35)\n",
        "    print('\\n')"
      ]
    },
    {
      "cell_type": "markdown",
      "id": "T8QkUW_ltd3t",
      "metadata": {
        "id": "T8QkUW_ltd3t"
      },
      "source": [
        "**Result**"
      ]
    },
    {
      "cell_type": "code",
      "execution_count": 12,
      "id": "tn9iVK7enS7V",
      "metadata": {
        "colab": {
          "base_uri": "https://localhost:8080/",
          "height": 300
        },
        "id": "tn9iVK7enS7V",
        "outputId": "aebd47f5-65d6-4d9f-e9be-cc4668016545"
      },
      "outputs": [
        {
          "data": {
            "text/html": [
              "<div>\n",
              "<style scoped>\n",
              "    .dataframe tbody tr th:only-of-type {\n",
              "        vertical-align: middle;\n",
              "    }\n",
              "\n",
              "    .dataframe tbody tr th {\n",
              "        vertical-align: top;\n",
              "    }\n",
              "\n",
              "    .dataframe thead th {\n",
              "        text-align: right;\n",
              "    }\n",
              "</style>\n",
              "<table border=\"1\" class=\"dataframe\">\n",
              "  <thead>\n",
              "    <tr style=\"text-align: right;\">\n",
              "      <th></th>\n",
              "      <th>Model Name</th>\n",
              "      <th>R2_Score</th>\n",
              "    </tr>\n",
              "  </thead>\n",
              "  <tbody>\n",
              "    <tr>\n",
              "      <th>2</th>\n",
              "      <td>XGBRegressor</td>\n",
              "      <td>0.949077</td>\n",
              "    </tr>\n",
              "    <tr>\n",
              "      <th>1</th>\n",
              "      <td>Random Forest Regressor</td>\n",
              "      <td>0.948852</td>\n",
              "    </tr>\n",
              "    <tr>\n",
              "      <th>0</th>\n",
              "      <td>Linear Regression</td>\n",
              "      <td>0.553032</td>\n",
              "    </tr>\n",
              "  </tbody>\n",
              "</table>\n",
              "</div>"
            ],
            "text/plain": [
              "                Model Name  R2_Score\n",
              "2             XGBRegressor  0.949077\n",
              "1  Random Forest Regressor  0.948852\n",
              "0        Linear Regression  0.553032"
            ]
          },
          "execution_count": 12,
          "metadata": {},
          "output_type": "execute_result"
        }
      ],
      "source": [
        "pd.DataFrame(list(zip(model_list, r2_list)), columns=['Model Name', 'R2_Score']).sort_values(by=[\"R2_Score\"],ascending=False)"
      ]
    },
    {
      "cell_type": "markdown",
      "id": "7icbGJwWx_ms",
      "metadata": {
        "id": "7icbGJwWx_ms"
      },
      "source": [
        "In our provided dataset,XGBClassifier is the best method for recommending crops. It offers the best accuracy on the tests performed at 86.78%, showing a balanced performance on training data (94.62%) and test data, indicating generalization without overfitting. Also, the F1 score (86.65%) shows that it is good in both precision and recall, which makes its performance reliable for crop recommendation in different conditions. Also, when used with other models, the accuracy of the model is better than Random Forest and Decision Tree classifiers, which tend to have overfitting issues. It also overcomes simpler models such as Logistic Regression or AdaBoost, showing better accuracy and strength.\n",
        "\n"
      ]
    },
    {
      "cell_type": "markdown",
      "id": "TReQCuozyfV7",
      "metadata": {
        "id": "TReQCuozyfV7"
      },
      "source": [
        "**XGB Regression**"
      ]
    },
    {
      "cell_type": "code",
      "execution_count": 13,
      "id": "MY5guujtnTA-",
      "metadata": {
        "colab": {
          "base_uri": "https://localhost:8080/"
        },
        "id": "MY5guujtnTA-",
        "outputId": "0584f60d-2cbe-4856-f97c-87ecabd80375"
      },
      "outputs": [
        {
          "name": "stdout",
          "output_type": "stream",
          "text": [
            " Accuracy of the model is 94.91\n"
          ]
        }
      ],
      "source": [
        "xgb_model = XGBRegressor(fit_intercept=True)\n",
        "xgb_model = xgb_model.fit(X_train, y_train)\n",
        "y_pred = xgb_model.predict(X_test)\n",
        "score = r2_score(y_test, y_pred)*100\n",
        "print(\" Accuracy of the model is %.2f\" %score)"
      ]
    },
    {
      "cell_type": "markdown",
      "id": "ihKQi0-9zUwG",
      "metadata": {
        "id": "ihKQi0-9zUwG"
      },
      "source": [
        "**Plot y_pred and y_test**"
      ]
    },
    {
      "cell_type": "code",
      "execution_count": 14,
      "id": "pMxgE6IxnTEg",
      "metadata": {
        "colab": {
          "base_uri": "https://localhost:8080/",
          "height": 458
        },
        "id": "pMxgE6IxnTEg",
        "outputId": "b7b61020-7d1b-488d-c655-838e83cb1bd6"
      },
      "outputs": [
        {
          "data": {
            "image/png": "[encoded data removed]",
            "text/plain": [
              "<Figure size 640x480 with 1 Axes>"
            ]
          },
          "metadata": {},
          "output_type": "display_data"
        }
      ],
      "source": [
        "plt.scatter(y_test,y_pred);\n",
        "plt.xlabel('Actual');\n",
        "plt.ylabel('Predicted');"
      ]
    },
    {
      "cell_type": "code",
      "execution_count": 15,
      "id": "yBeQUm_2zZvZ",
      "metadata": {
        "colab": {
          "base_uri": "https://localhost:8080/",
          "height": 458
        },
        "id": "yBeQUm_2zZvZ",
        "outputId": "de27273f-5eba-44b2-fbfb-8330fbf27ac7"
      },
      "outputs": [
        {
          "data": {
            "image/png": "[encoded data removed]",
            "text/plain": [
              "<Figure size 640x480 with 1 Axes>"
            ]
          },
          "metadata": {},
          "output_type": "display_data"
        }
      ],
      "source": [
        "sns.regplot(x=y_test,y=y_pred,ci=None,color ='red');"
      ]
    },
    {
      "cell_type": "markdown",
      "id": "45i_vg19zh0e",
      "metadata": {
        "id": "45i_vg19zh0e"
      },
      "source": [
        "Difference between Actual and Predicted Values"
      ]
    },
    {
      "cell_type": "code",
      "execution_count": 16,
      "id": "VVUW8YRXzfUS",
      "metadata": {
        "colab": {
          "base_uri": "https://localhost:8080/",
          "height": 423
        },
        "id": "VVUW8YRXzfUS",
        "outputId": "21675259-2bdb-4058-adce-3f6e27e6ea1e"
      },
      "outputs": [
        {
          "data": {
            "text/html": [
              "<div>\n",
              "<style scoped>\n",
              "    .dataframe tbody tr th:only-of-type {\n",
              "        vertical-align: middle;\n",
              "    }\n",
              "\n",
              "    .dataframe tbody tr th {\n",
              "        vertical-align: top;\n",
              "    }\n",
              "\n",
              "    .dataframe thead th {\n",
              "        text-align: right;\n",
              "    }\n",
              "</style>\n",
              "<table border=\"1\" class=\"dataframe\">\n",
              "  <thead>\n",
              "    <tr style=\"text-align: right;\">\n",
              "      <th></th>\n",
              "      <th>Actual Value</th>\n",
              "      <th>Predicted Value</th>\n",
              "      <th>Difference</th>\n",
              "    </tr>\n",
              "  </thead>\n",
              "  <tbody>\n",
              "    <tr>\n",
              "      <th>34576</th>\n",
              "      <td>2194.00</td>\n",
              "      <td>2131.071289</td>\n",
              "      <td>62.928711</td>\n",
              "    </tr>\n",
              "    <tr>\n",
              "      <th>41171</th>\n",
              "      <td>43.00</td>\n",
              "      <td>48.365692</td>\n",
              "      <td>-5.365692</td>\n",
              "    </tr>\n",
              "    <tr>\n",
              "      <th>50608</th>\n",
              "      <td>1.73</td>\n",
              "      <td>40.198063</td>\n",
              "      <td>-38.468063</td>\n",
              "    </tr>\n",
              "    <tr>\n",
              "      <th>20716</th>\n",
              "      <td>10.00</td>\n",
              "      <td>182.471176</td>\n",
              "      <td>-172.471176</td>\n",
              "    </tr>\n",
              "    <tr>\n",
              "      <th>4510</th>\n",
              "      <td>84.70</td>\n",
              "      <td>72.630188</td>\n",
              "      <td>12.069812</td>\n",
              "    </tr>\n",
              "    <tr>\n",
              "      <th>...</th>\n",
              "      <td>...</td>\n",
              "      <td>...</td>\n",
              "      <td>...</td>\n",
              "    </tr>\n",
              "    <tr>\n",
              "      <th>58603</th>\n",
              "      <td>52.00</td>\n",
              "      <td>280.105621</td>\n",
              "      <td>-228.105621</td>\n",
              "    </tr>\n",
              "    <tr>\n",
              "      <th>9497</th>\n",
              "      <td>26.00</td>\n",
              "      <td>33.192181</td>\n",
              "      <td>-7.192181</td>\n",
              "    </tr>\n",
              "    <tr>\n",
              "      <th>66870</th>\n",
              "      <td>155.00</td>\n",
              "      <td>169.353546</td>\n",
              "      <td>-14.353546</td>\n",
              "    </tr>\n",
              "    <tr>\n",
              "      <th>33863</th>\n",
              "      <td>30.00</td>\n",
              "      <td>37.370422</td>\n",
              "      <td>-7.370422</td>\n",
              "    </tr>\n",
              "    <tr>\n",
              "      <th>35112</th>\n",
              "      <td>4.40</td>\n",
              "      <td>11.556716</td>\n",
              "      <td>-7.156716</td>\n",
              "    </tr>\n",
              "  </tbody>\n",
              "</table>\n",
              "<p>17111 rows × 3 columns</p>\n",
              "</div>"
            ],
            "text/plain": [
              "       Actual Value  Predicted Value  Difference\n",
              "34576       2194.00      2131.071289   62.928711\n",
              "41171         43.00        48.365692   -5.365692\n",
              "50608          1.73        40.198063  -38.468063\n",
              "20716         10.00       182.471176 -172.471176\n",
              "4510          84.70        72.630188   12.069812\n",
              "...             ...              ...         ...\n",
              "58603         52.00       280.105621 -228.105621\n",
              "9497          26.00        33.192181   -7.192181\n",
              "66870        155.00       169.353546  -14.353546\n",
              "33863         30.00        37.370422   -7.370422\n",
              "35112          4.40        11.556716   -7.156716\n",
              "\n",
              "[17111 rows x 3 columns]"
            ]
          },
          "execution_count": 16,
          "metadata": {},
          "output_type": "execute_result"
        }
      ],
      "source": [
        "pred_df=pd.DataFrame({'Actual Value':y_test,'Predicted Value':y_pred,'Difference':y_test-y_pred})\n",
        "pred_df"
      ]
    }
  ],
  "metadata": {
    "colab": {
      "provenance": []
    },
    "kernelspec": {
      "display_name": "Python 3",
      "name": "python3"
    },
    "language_info": {
      "codemirror_mode": {
        "name": "ipython",
        "version": 3
      },
      "file_extension": ".py",
      "mimetype": "text/x-python",
      "name": "python",
      "nbconvert_exporter": "python",
      "pygments_lexer": "ipython3",
      "version": "3.8.0"
    }
  },
  "nbformat": 4,
  "nbformat_minor": 5
}
